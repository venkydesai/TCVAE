{
 "cells": [
  {
   "cell_type": "code",
   "execution_count": 3,
   "metadata": {},
   "outputs": [
    {
     "name": "stderr",
     "output_type": "stream",
     "text": [
      "Traceback (most recent call last):\n",
      "  File \"c:\\Users\\VENKATESH\\Desktop\\Imp\\INsta\\beta-tcvae-master\\vae_quant.py\", line 6, in <module>\n",
      "    import torch\n",
      "ModuleNotFoundError: No module named 'torch'\n"
     ]
    }
   ],
   "source": [
    "# !python vae_quant.py --dataset [shapes] --beta 6 --tcvae\n",
    "class test():\n",
    "    def working():\n",
    "        print(\"Reached\")"
   ]
  },
  {
   "cell_type": "code",
   "execution_count": 2,
   "metadata": {},
   "outputs": [
    {
     "name": "stdout",
     "output_type": "stream",
     "text": [
      "Collecting visdom\n",
      "  Downloading visdom-0.2.4.tar.gz (1.4 MB)\n",
      "     ---------------------------------------- 1.4/1.4 MB 8.2 MB/s eta 0:00:00\n",
      "  Preparing metadata (setup.py): started\n",
      "  Preparing metadata (setup.py): finished with status 'done'\n",
      "Requirement already satisfied: numpy>=1.8 in d:\\programs\\anaconda\\lib\\site-packages (from visdom) (1.21.5)\n",
      "Requirement already satisfied: scipy in d:\\programs\\anaconda\\lib\\site-packages (from visdom) (1.9.1)\n",
      "Requirement already satisfied: requests in d:\\programs\\anaconda\\lib\\site-packages (from visdom) (2.28.1)\n",
      "Requirement already satisfied: tornado in d:\\programs\\anaconda\\lib\\site-packages (from visdom) (6.1)\n",
      "Requirement already satisfied: six in d:\\programs\\anaconda\\lib\\site-packages (from visdom) (1.16.0)\n",
      "Requirement already satisfied: jsonpatch in d:\\programs\\anaconda\\lib\\site-packages (from visdom) (1.32)\n",
      "Requirement already satisfied: websocket-client in d:\\programs\\anaconda\\lib\\site-packages (from visdom) (0.58.0)\n",
      "Requirement already satisfied: networkx in d:\\programs\\anaconda\\lib\\site-packages (from visdom) (2.8.4)\n",
      "Requirement already satisfied: pillow in d:\\programs\\anaconda\\lib\\site-packages (from visdom) (9.2.0)\n",
      "Requirement already satisfied: jsonpointer>=1.9 in d:\\programs\\anaconda\\lib\\site-packages (from jsonpatch->visdom) (2.1)\n",
      "Requirement already satisfied: charset-normalizer<3,>=2 in d:\\programs\\anaconda\\lib\\site-packages (from requests->visdom) (2.0.4)\n",
      "Requirement already satisfied: certifi>=2017.4.17 in d:\\programs\\anaconda\\lib\\site-packages (from requests->visdom) (2022.9.14)\n",
      "Requirement already satisfied: urllib3<1.27,>=1.21.1 in d:\\programs\\anaconda\\lib\\site-packages (from requests->visdom) (1.26.11)\n",
      "Requirement already satisfied: idna<4,>=2.5 in d:\\programs\\anaconda\\lib\\site-packages (from requests->visdom) (3.3)\n",
      "Building wheels for collected packages: visdom\n",
      "  Building wheel for visdom (setup.py): started\n",
      "  Building wheel for visdom (setup.py): finished with status 'done'\n",
      "  Created wheel for visdom: filename=visdom-0.2.4-py3-none-any.whl size=1408198 sha256=f5db090414bcd7822eda5ec0402fa89dcc480be4d2ebaf2580c7e2cc02a2c942\n",
      "  Stored in directory: c:\\users\\venkatesh\\appdata\\local\\pip\\cache\\wheels\\58\\9e\\14\\30f7cc4dafdd4d602fb00ca33c6edd1424fc0f5df10a02e060\n",
      "Successfully built visdom\n",
      "Installing collected packages: visdom\n",
      "Successfully installed visdom-0.2.4\n",
      "Collecting brewer2mpl\n",
      "  Downloading brewer2mpl-1.4.1-py2.py3-none-any.whl (24 kB)\n",
      "Installing collected packages: brewer2mpl\n",
      "Successfully installed brewer2mpl-1.4.1\n"
     ]
    }
   ],
   "source": [
    "# !pip install visdom\n",
    "# !pip install brewer2mpl"
   ]
  }
 ],
 "metadata": {
  "kernelspec": {
   "display_name": "base",
   "language": "python",
   "name": "python3"
  },
  "language_info": {
   "codemirror_mode": {
    "name": "ipython",
    "version": 3
   },
   "file_extension": ".py",
   "mimetype": "text/x-python",
   "name": "python",
   "nbconvert_exporter": "python",
   "pygments_lexer": "ipython3",
   "version": "3.9.13"
  },
  "orig_nbformat": 4
 },
 "nbformat": 4,
 "nbformat_minor": 2
}
