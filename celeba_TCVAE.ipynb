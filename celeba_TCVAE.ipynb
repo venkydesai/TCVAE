{
 "cells": [
  {
   "cell_type": "code",
   "execution_count": 1,
   "id": "4bd8bec4-778e-4f9f-be3a-54ca95f01432",
   "metadata": {},
   "outputs": [],
   "source": [
    "import os\n",
    "import time\n",
    "import math\n",
    "# import pandas as pd\n",
    "import numpy as np\n",
    "from numbers import Number\n",
    "import argparse\n",
    "import torch\n",
    "import torch.nn as nn\n",
    "import torch.optim as optim\n",
    "import visdom\n",
    "from torch.autograd import Variable\n",
    "from torch.utils.data import DataLoader\n",
    "# import plotly.express as px\n",
    "import torchvision.utils as vutils\n",
    "import matplotlib.pyplot as plt\n",
    "import torchvision.datasets as datasets\n",
    "import torchvision.transforms as transforms\n",
    "import shutil\n",
    "\n",
    "import lib.dist as dist\n",
    "import lib.utils as utils\n",
    "# import lib.datasets as dset\n",
    "from lib.flows import FactorialNormalizingFlow\n",
    "\n",
    "from elbo_decomposition import elbo_decomposition\n",
    "from plot_latent_vs_true import plot_vs_gt_shapes, plot_vs_gt_faces\n"
   ]
  },
  {
   "cell_type": "code",
   "execution_count": 2,
   "id": "4f86b580-9f3d-43d4-951b-ecbf700131ad",
   "metadata": {},
   "outputs": [],
   "source": [
    "from vae_quant import VAE"
   ]
  },
  {
   "cell_type": "code",
   "execution_count": 3,
   "id": "4fbf24c7-c7cf-4b7c-97da-cab3e7d9cc3f",
   "metadata": {},
   "outputs": [],
   "source": [
    "# for filename in os.listdir('/home/desai.ven/TCVAE/img_align_celeba'):\n",
    "#             # image = Image.open(os.path.join(\"images\", filename))\n",
    "#             image = Image.open(os.path.join('/home/desai.ven/TCVAE/img_align_celeba', filename))\n",
    "#             image = transform(image)\n",
    "#             self.dataset.append(image)"
   ]
  },
  {
   "cell_type": "code",
   "execution_count": 4,
   "id": "cce2eb47-d13c-4cfc-bee9-28aa06b68faf",
   "metadata": {},
   "outputs": [],
   "source": [
    "# root='/home/desai.ven/TCVAE/img_align_celeba'\n",
    "# img_list=os.listdir(root)\n",
    "# print(len(img_list))"
   ]
  },
  {
   "cell_type": "code",
   "execution_count": 5,
   "id": "eb540694-6297-479a-97cb-ec523deb0724",
   "metadata": {},
   "outputs": [],
   "source": [
    "# import pandas as pd"
   ]
  },
  {
   "cell_type": "code",
   "execution_count": 6,
   "id": "ad7bccb7-1325-48ba-a6b4-ebab0e9ea9d3",
   "metadata": {},
   "outputs": [],
   "source": [
    "# att=pd.read_csv('/home/desai.ven/TCVAE/list_attr_celeba.csv')"
   ]
  },
  {
   "cell_type": "code",
   "execution_count": 7,
   "id": "ec646e4e-4c24-4df3-9469-db417dd364ef",
   "metadata": {},
   "outputs": [],
   "source": [
    "# att.columns"
   ]
  },
  {
   "cell_type": "code",
   "execution_count": 8,
   "id": "670ce38f-d8d2-4cad-ab41-ceb413768fe0",
   "metadata": {},
   "outputs": [],
   "source": [
    "# att=att[[\"image_id\",\"Bald\",\"Oval_Face\",\"Male\",\"Mustache\"]]"
   ]
  },
  {
   "cell_type": "code",
   "execution_count": 9,
   "id": "88a328fc-85fb-4821-9e71-8529416c472a",
   "metadata": {},
   "outputs": [],
   "source": [
    "# for i, (_,row) in enumerate(att.iterrows()):\n",
    "#     if row[\"Bald\"]==1:\n",
    "#         shutil.copyfile(\"/home/desai.ven/TCVAE/img_align_celeba/\"+row[\"image_id\"], \"/home/desai.ven/TCVAE/celeba_att/Bald/\"+row[\"image_id\"] )\n",
    "#     if row[\"Oval_Face\"]==1:\n",
    "#         shutil.copyfile(\"/home/desai.ven/TCVAE/img_align_celeba/\"+row[\"image_id\"], \"/home/desai.ven/TCVAE/celeba_att/Oval_Face/\"+row[\"image_id\"] )\n",
    "#     if row[\"Male\"]==1:\n",
    "#         shutil.copyfile(\"/home/desai.ven/TCVAE/img_align_celeba/\"+row[\"image_id\"], \"/home/desai.ven/TCVAE/celeba_att/Male/\"+row[\"image_id\"] )\n",
    "#     if row[\"Mustache\"]==1:\n",
    "#         shutil.copyfile(\"/home/desai.ven/TCVAE/img_align_celeba/\"+row[\"image_id\"], \"/home/desai.ven/TCVAE/celeba_att/Mustache/\"+row[\"image_id\"] )"
   ]
  },
  {
   "cell_type": "code",
   "execution_count": 10,
   "id": "b99b0076-20c7-4992-b6e2-1e762127dee4",
   "metadata": {},
   "outputs": [],
   "source": [
    "# img_list=os.listdir(\"/home/desai.ven/TCVAE/celeba_att/Bald/\")\n",
    "# img_list.extend(os.listdir(\"/home/desai.ven/TCVAE/celeba_att/Oval_Face/\"))\n",
    "# img_list.extend(os.listdir(\"/home/desai.ven/TCVAE/celeba_att/Male/\"))\n",
    "# img_list.extend(os.listdir(\"/home/desai.ven/TCVAE/celeba_att/Mustache/\"))"
   ]
  },
  {
   "cell_type": "code",
   "execution_count": 11,
   "id": "4ea71347-1ab8-4045-939a-e65d60d4a61d",
   "metadata": {},
   "outputs": [],
   "source": [
    "# print(len(img_list))"
   ]
  },
  {
   "cell_type": "code",
   "execution_count": null,
   "id": "f707d27a-e6ee-4a01-8917-0d1ed9477dc6",
   "metadata": {},
   "outputs": [],
   "source": []
  },
  {
   "cell_type": "code",
   "execution_count": null,
   "id": "b5ac0a07-979e-43c3-89fa-dff529e1cd54",
   "metadata": {},
   "outputs": [],
   "source": []
  },
  {
   "cell_type": "code",
   "execution_count": null,
   "id": "5655cd04-16b0-4f24-bf85-fdc8ae1df4b6",
   "metadata": {},
   "outputs": [],
   "source": []
  },
  {
   "cell_type": "code",
   "execution_count": 12,
   "id": "61b157e6-a49b-4f0a-9027-418e93fde395",
   "metadata": {},
   "outputs": [],
   "source": [
    "image_size = 64\n",
    "pix_mean = [0.5, 0.5, 0.5]\n",
    "pix_std = [0.5, 0.5, 0.5]\n",
    "\n",
    "celeba_dataset = datasets.ImageFolder(\n",
    "    root='/home/desai.ven/TCVAE/celeba_att/Bald',\n",
    "    transform=transforms.Compose([\n",
    "        transforms.Resize(image_size),\n",
    "        transforms.CenterCrop(image_size),\n",
    "        transforms.ToTensor(),\n",
    "        transforms.Normalize(pix_mean, pix_std),\n",
    "    ]))"
   ]
  },
  {
   "cell_type": "code",
   "execution_count": 13,
   "id": "ebc719ad-7f39-41dd-8f06-b860bf3f4a9b",
   "metadata": {},
   "outputs": [
    {
     "name": "stdout",
     "output_type": "stream",
     "text": [
      "<class 'torchvision.datasets.folder.ImageFolder'>\n"
     ]
    }
   ],
   "source": [
    "print(type(celeba_dataset))"
   ]
  },
  {
   "cell_type": "code",
   "execution_count": 14,
   "id": "8f402a38-b60f-4ba1-a38f-3989568f4787",
   "metadata": {},
   "outputs": [],
   "source": [
    "batch_size=32\n",
    "num_worksers=4\n",
    "# pin_memory= use_cuda\n",
    "kwargs = {'num_workers': 4, 'pin_memory': True}"
   ]
  },
  {
   "cell_type": "code",
   "execution_count": 15,
   "id": "c0736037-640d-4ee7-b46a-610a19e45f69",
   "metadata": {},
   "outputs": [],
   "source": [
    "train_loader=torch.utils.data.DataLoader(\n",
    "    celeba_dataset,\n",
    "    batch_size=32,\n",
    "    shuffle=True,\n",
    "    **kwargs\n",
    ")"
   ]
  },
  {
   "cell_type": "code",
   "execution_count": 16,
   "id": "9a4a24fb-955f-4631-9742-1c735298f8e4",
   "metadata": {},
   "outputs": [
    {
     "data": {
      "text/plain": [
       "torchvision.datasets.folder.ImageFolder"
      ]
     },
     "execution_count": 16,
     "metadata": {},
     "output_type": "execute_result"
    }
   ],
   "source": [
    "type(celeba_dataset)"
   ]
  },
  {
   "cell_type": "code",
   "execution_count": 17,
   "id": "ba98e77f-817f-49c2-a2d7-39ccadaf7e1e",
   "metadata": {},
   "outputs": [],
   "source": [
    "prior_dist = dist.Normal()\n",
    "q_dist = dist.Normal()"
   ]
  },
  {
   "cell_type": "code",
   "execution_count": 18,
   "id": "3074a6b2-c5d3-4157-9d22-950f46494afc",
   "metadata": {},
   "outputs": [],
   "source": [
    "num_epochs=50\n",
    "lr=1e-3 #4e-3\n",
    "latent_dim=10\n",
    "tcvae=True\n",
    "conv= True\n",
    "mss= False\n",
    "\n",
    "log_freq=200\n",
    "save=\"results_celeba_Bald\""
   ]
  },
  {
   "cell_type": "code",
   "execution_count": 19,
   "id": "c7f2ecd0-72e5-44a4-811b-b20758e640ce",
   "metadata": {},
   "outputs": [],
   "source": [
    "vae = VAE(z_dim=latent_dim, use_cuda=True, prior_dist=prior_dist, q_dist=q_dist, include_mutinfo=True, tcvae=tcvae, conv=conv, mss=mss)"
   ]
  },
  {
   "cell_type": "code",
   "execution_count": 20,
   "id": "4158da37-d681-40ac-bdfb-729a8b59ccff",
   "metadata": {},
   "outputs": [],
   "source": [
    "vae.beta=15\n",
    "vae.lamb=0"
   ]
  },
  {
   "cell_type": "code",
   "execution_count": null,
   "id": "d5336930-c0fd-41ca-ac2d-d40c86702dd4",
   "metadata": {},
   "outputs": [
    {
     "name": "stdout",
     "output_type": "stream",
     "text": [
      "[iteration 200] time: 0.02 \tbeta 15.00 \tlambda 0.00 training ELBO: 55774.9375 (47466.2858)\n",
      "[iteration 400] time: 0.02 \tbeta 15.00 \tlambda 0.00 training ELBO: 52789.7344 (54236.0745)\n",
      "[iteration 600] time: 0.02 \tbeta 15.00 \tlambda 0.00 training ELBO: 51505.2656 (54071.0881)\n",
      "[iteration 800] time: 0.02 \tbeta 15.00 \tlambda 0.00 training ELBO: 57356.1133 (55615.7563)\n"
     ]
    }
   ],
   "source": [
    "optimizer = optim.Adam(vae.parameters(), lr=lr)\n",
    "dataset_size = len(train_loader.dataset)\n",
    "num_iterations = len(train_loader) * num_epochs\n",
    "iteration = 0\n",
    "train_elbo = []\n",
    "    # initialize loss accumulator\n",
    "elbo_running_mean = utils.RunningAverageMeter()\n",
    "while iteration < num_iterations:\n",
    "        for i, x in enumerate(train_loader):\n",
    "            iteration += 1\n",
    "            batch_time = time.time()\n",
    "            vae.train()\n",
    "            optimizer.zero_grad()\n",
    "            # print(x[1])\n",
    "            x=x[0]\n",
    "            # print(x.shape)\n",
    "            x = x.cuda()\n",
    "            # wrap the mini-batch in a PyTorch Variable\n",
    "            x = Variable(x)\n",
    "            # do ELBO gradient and accumulate loss\n",
    "            obj, elbo = vae.elbo(x, dataset_size)\n",
    "            if utils.isnan(obj).any():\n",
    "                raise ValueError('NaN spotted in objective.')\n",
    "            obj.mean().mul(-1).backward()\n",
    "            # elbo_running_mean.update(elbo.mean().data[0])\n",
    "            elbo_running_mean.update(elbo.mean().data.item())\n",
    "            optimizer.step()\n",
    "            if iteration % log_freq == 0:\n",
    "                train_elbo.append(elbo_running_mean.avg)\n",
    "                print('[iteration %03d] time: %.2f \\tbeta %.2f \\tlambda %.2f training ELBO: %.4f (%.4f)' % (\n",
    "                    iteration, time.time() - batch_time, vae.beta, vae.lamb,\n",
    "                    elbo_running_mean.val, elbo_running_mean.avg))\n",
    "\n",
    "                vae.eval()\n",
    "                utils.save_checkpoint({'state_dict': vae.state_dict()}, save, 0)\n",
    "\n",
    "vae.eval()\n",
    "utils.save_checkpoint({'state_dict': vae.state_dict()}, save, 0)\n",
    "            \n"
   ]
  },
  {
   "cell_type": "code",
   "execution_count": null,
   "id": "0ac606cc-0383-494f-87c8-8257f9ff93ad",
   "metadata": {},
   "outputs": [],
   "source": []
  },
  {
   "cell_type": "code",
   "execution_count": null,
   "id": "c9354400-2556-496d-b6a9-367ed6901c77",
   "metadata": {},
   "outputs": [],
   "source": []
  },
  {
   "cell_type": "code",
   "execution_count": null,
   "id": "31d38c65-194b-4ec1-9e2d-85a38394be94",
   "metadata": {},
   "outputs": [],
   "source": []
  },
  {
   "cell_type": "code",
   "execution_count": null,
   "id": "e35aaa53-d4de-43b0-9150-e7c1f81bcdb2",
   "metadata": {},
   "outputs": [],
   "source": []
  }
 ],
 "metadata": {
  "kernelspec": {
   "display_name": "virtual",
   "language": "python",
   "name": "virtual"
  },
  "language_info": {
   "codemirror_mode": {
    "name": "ipython",
    "version": 3
   },
   "file_extension": ".py",
   "mimetype": "text/x-python",
   "name": "python",
   "nbconvert_exporter": "python",
   "pygments_lexer": "ipython3",
   "version": "3.9.12"
  }
 },
 "nbformat": 4,
 "nbformat_minor": 5
}
