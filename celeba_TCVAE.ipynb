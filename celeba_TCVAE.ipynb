{
 "cells": [
  {
   "cell_type": "code",
   "execution_count": 16,
   "id": "4bd8bec4-778e-4f9f-be3a-54ca95f01432",
   "metadata": {},
   "outputs": [
    {
     "ename": "ModuleNotFoundError",
     "evalue": "No module named 'pandas'",
     "output_type": "error",
     "traceback": [
      "\u001b[0;31m---------------------------------------------------------------------------\u001b[0m",
      "\u001b[0;31mModuleNotFoundError\u001b[0m                       Traceback (most recent call last)",
      "Cell \u001b[0;32mIn[16], line 4\u001b[0m\n\u001b[1;32m      2\u001b[0m \u001b[38;5;28;01mimport\u001b[39;00m \u001b[38;5;21;01mtime\u001b[39;00m\n\u001b[1;32m      3\u001b[0m \u001b[38;5;28;01mimport\u001b[39;00m \u001b[38;5;21;01mmath\u001b[39;00m\n\u001b[0;32m----> 4\u001b[0m \u001b[38;5;28;01mimport\u001b[39;00m \u001b[38;5;21;01mpandas\u001b[39;00m \u001b[38;5;28;01mas\u001b[39;00m \u001b[38;5;21;01mpd\u001b[39;00m\n\u001b[1;32m      5\u001b[0m \u001b[38;5;28;01mimport\u001b[39;00m \u001b[38;5;21;01mnumpy\u001b[39;00m \u001b[38;5;28;01mas\u001b[39;00m \u001b[38;5;21;01mnp\u001b[39;00m\n\u001b[1;32m      6\u001b[0m \u001b[38;5;28;01mfrom\u001b[39;00m \u001b[38;5;21;01mnumbers\u001b[39;00m \u001b[38;5;28;01mimport\u001b[39;00m Number\n",
      "\u001b[0;31mModuleNotFoundError\u001b[0m: No module named 'pandas'"
     ]
    }
   ],
   "source": [
    "import os\n",
    "import time\n",
    "import math\n",
    "import pandas as pd\n",
    "import numpy as np\n",
    "from numbers import Number\n",
    "import argparse\n",
    "import torch\n",
    "import torch.nn as nn\n",
    "import torch.optim as optim\n",
    "import visdom\n",
    "from torch.autograd import Variable\n",
    "from torch.utils.data import DataLoader\n",
    "# import plotly.express as px\n",
    "import torchvision.utils as vutils\n",
    "import matplotlib.pyplot as plt\n",
    "import torchvision.datasets as datasets\n",
    "import torchvision.transforms as transforms\n",
    "import shutil\n",
    "\n",
    "import lib.dist as dist\n",
    "import lib.utils as utils\n",
    "# import lib.datasets as dset\n",
    "from lib.flows import FactorialNormalizingFlow\n",
    "\n",
    "from elbo_decomposition import elbo_decomposition\n",
    "from plot_latent_vs_true import plot_vs_gt_shapes, plot_vs_gt_faces"
   ]
  },
  {
   "cell_type": "code",
   "execution_count": 1,
   "id": "4fbf24c7-c7cf-4b7c-97da-cab3e7d9cc3f",
   "metadata": {},
   "outputs": [
    {
     "data": {
      "text/plain": [
       "'/home/desai.ven/TCVAE'"
      ]
     },
     "execution_count": 1,
     "metadata": {},
     "output_type": "execute_result"
    }
   ],
   "source": [
    "for filename in os.listdir('/home/desai.ven/TCVAE/img_align_celeba'):\n",
    "            # image = Image.open(os.path.join(\"images\", filename))\n",
    "            image = Image.open(os.path.join('/home/desai.ven/TCVAE/img_align_celeba', filename))\n",
    "            image = transform(image)\n",
    "            self.dataset.append(image)"
   ]
  },
  {
   "cell_type": "code",
   "execution_count": 2,
   "id": "cce2eb47-d13c-4cfc-bee9-28aa06b68faf",
   "metadata": {},
   "outputs": [
    {
     "name": "stdout",
     "output_type": "stream",
     "text": [
      "202599\n"
     ]
    }
   ],
   "source": [
    "root='/home/desai.ven/TCVAE/img_align_celeba'\n",
    "img_list=os.listdir(root)\n",
    "print(len(img_list))"
   ]
  },
  {
   "cell_type": "code",
   "execution_count": 1,
   "id": "eb540694-6297-479a-97cb-ec523deb0724",
   "metadata": {},
   "outputs": [],
   "source": [
    "import pandas as pd"
   ]
  },
  {
   "cell_type": "code",
   "execution_count": 2,
   "id": "ad7bccb7-1325-48ba-a6b4-ebab0e9ea9d3",
   "metadata": {},
   "outputs": [],
   "source": [
    "att=pd.read_csv('/home/desai.ven/TCVAE/list_attr_celeba.csv')"
   ]
  },
  {
   "cell_type": "code",
   "execution_count": 7,
   "id": "ec646e4e-4c24-4df3-9469-db417dd364ef",
   "metadata": {},
   "outputs": [
    {
     "data": {
      "text/plain": [
       "Index(['image_id', '5_o_Clock_Shadow', 'Arched_Eyebrows', 'Attractive',\n",
       "       'Bags_Under_Eyes', 'Bald', 'Bangs', 'Big_Lips', 'Big_Nose',\n",
       "       'Black_Hair', 'Blond_Hair', 'Blurry', 'Brown_Hair', 'Bushy_Eyebrows',\n",
       "       'Chubby', 'Double_Chin', 'Eyeglasses', 'Goatee', 'Gray_Hair',\n",
       "       'Heavy_Makeup', 'High_Cheekbones', 'Male', 'Mouth_Slightly_Open',\n",
       "       'Mustache', 'Narrow_Eyes', 'No_Beard', 'Oval_Face', 'Pale_Skin',\n",
       "       'Pointy_Nose', 'Receding_Hairline', 'Rosy_Cheeks', 'Sideburns',\n",
       "       'Smiling', 'Straight_Hair', 'Wavy_Hair', 'Wearing_Earrings',\n",
       "       'Wearing_Hat', 'Wearing_Lipstick', 'Wearing_Necklace',\n",
       "       'Wearing_Necktie', 'Young'],\n",
       "      dtype='object')"
      ]
     },
     "execution_count": 7,
     "metadata": {},
     "output_type": "execute_result"
    }
   ],
   "source": [
    "att.columns"
   ]
  },
  {
   "cell_type": "code",
   "execution_count": 16,
   "id": "670ce38f-d8d2-4cad-ab41-ceb413768fe0",
   "metadata": {},
   "outputs": [],
   "source": [
    "att=att[[\"image_id\",\"Bald\",\"Oval_Face\",\"Male\",\"Mustache\"]]"
   ]
  },
  {
   "cell_type": "code",
   "execution_count": 18,
   "id": "88a328fc-85fb-4821-9e71-8529416c472a",
   "metadata": {},
   "outputs": [],
   "source": [
    "for i, (_,row) in enumerate(att.iterrows()):\n",
    "    if row[\"Bald\"]==1:\n",
    "        shutil.copyfile(\"/home/desai.ven/TCVAE/img_align_celeba/\"+row[\"image_id\"], \"/home/desai.ven/TCVAE/celeba_att/Bald/\"+row[\"image_id\"] )\n",
    "    if row[\"Oval_Face\"]==1:\n",
    "        shutil.copyfile(\"/home/desai.ven/TCVAE/img_align_celeba/\"+row[\"image_id\"], \"/home/desai.ven/TCVAE/celeba_att/Oval_Face/\"+row[\"image_id\"] )\n",
    "    if row[\"Male\"]==1:\n",
    "        shutil.copyfile(\"/home/desai.ven/TCVAE/img_align_celeba/\"+row[\"image_id\"], \"/home/desai.ven/TCVAE/celeba_att/Male/\"+row[\"image_id\"] )\n",
    "    if row[\"Mustache\"]==1:\n",
    "        shutil.copyfile(\"/home/desai.ven/TCVAE/img_align_celeba/\"+row[\"image_id\"], \"/home/desai.ven/TCVAE/celeba_att/Mustache/\"+row[\"image_id\"] )"
   ]
  },
  {
   "cell_type": "code",
   "execution_count": 19,
   "id": "b99b0076-20c7-4992-b6e2-1e762127dee4",
   "metadata": {},
   "outputs": [],
   "source": [
    "img_list=os.listdir(\"/home/desai.ven/TCVAE/celeba_att/Bald/\")\n",
    "img_list.extend(os.listdir(\"/home/desai.ven/TCVAE/celeba_att/Oval_Face/\"))\n",
    "img_list.extend(os.listdir(\"/home/desai.ven/TCVAE/celeba_att/Male/\"))\n",
    "img_list.extend(os.listdir(\"/home/desai.ven/TCVAE/celeba_att/Mustache/\"))"
   ]
  },
  {
   "cell_type": "code",
   "execution_count": 21,
   "id": "4ea71347-1ab8-4045-939a-e65d60d4a61d",
   "metadata": {},
   "outputs": [
    {
     "name": "stdout",
     "output_type": "stream",
     "text": [
      "154965\n"
     ]
    }
   ],
   "source": [
    "# print(len(img_list))"
   ]
  },
  {
   "cell_type": "code",
   "execution_count": null,
   "id": "f707d27a-e6ee-4a01-8917-0d1ed9477dc6",
   "metadata": {},
   "outputs": [],
   "source": []
  },
  {
   "cell_type": "code",
   "execution_count": null,
   "id": "b5ac0a07-979e-43c3-89fa-dff529e1cd54",
   "metadata": {},
   "outputs": [],
   "source": []
  },
  {
   "cell_type": "code",
   "execution_count": null,
   "id": "5655cd04-16b0-4f24-bf85-fdc8ae1df4b6",
   "metadata": {},
   "outputs": [],
   "source": []
  },
  {
   "cell_type": "code",
   "execution_count": 15,
   "id": "61b157e6-a49b-4f0a-9027-418e93fde395",
   "metadata": {},
   "outputs": [],
   "source": [
    "image_size = 64\n",
    "pix_mean = [0.5, 0.5, 0.5]\n",
    "pix_std = [0.5, 0.5, 0.5]\n",
    "\n",
    "celeba_dataset = datasets.ImageFolder(\n",
    "    root='/home/desai.ven/TCVAE/celeba_att',\n",
    "    transform=transforms.Compose([\n",
    "        transforms.Resize(image_size),\n",
    "        transforms.CenterCrop(image_size),\n",
    "        transforms.ToTensor(),\n",
    "        transforms.Normalize(pix_mean, pix_std),\n",
    "    ]))"
   ]
  },
  {
   "cell_type": "code",
   "execution_count": null,
   "id": "ebc719ad-7f39-41dd-8f06-b860bf3f4a9b",
   "metadata": {},
   "outputs": [],
   "source": [
    "print(len(celeba_dataset))"
   ]
  },
  {
   "cell_type": "code",
   "execution_count": null,
   "id": "8f402a38-b60f-4ba1-a38f-3989568f4787",
   "metadata": {},
   "outputs": [],
   "source": [
    "batch_size=2048\n",
    "num_worksers=4\n",
    "pin_memory= use_cuda"
   ]
  },
  {
   "cell_type": "code",
   "execution_count": null,
   "id": "c0736037-640d-4ee7-b46a-610a19e45f69",
   "metadata": {},
   "outputs": [],
   "source": [
    "train_loader=torch.utils.data.DataLoader(\n",
    "    celeba_dataset,\n",
    "    batch_size=2048,\n",
    "    shuffle=True,\n",
    "    num_workers=num_worksers,\n",
    "    pin_memory=pin_memory\n",
    ")"
   ]
  },
  {
   "cell_type": "code",
   "execution_count": null,
   "id": "ba98e77f-817f-49c2-a2d7-39ccadaf7e1e",
   "metadata": {},
   "outputs": [],
   "source": [
    "prior_dist = dist.Normal()\n",
    "q_dist = dist.Normal()"
   ]
  },
  {
   "cell_type": "code",
   "execution_count": null,
   "id": "3074a6b2-c5d3-4157-9d22-950f46494afc",
   "metadata": {},
   "outputs": [],
   "source": [
    "num_epochs=50\n",
    "lr=1e-3\n",
    "latent_dim=10\n",
    "tcvae=True\n",
    "conv= True\n",
    "mss= False\n",
    "beta=15\n",
    "lamb=0\n",
    "log_freq=200\n",
    "save=\"results_celeba_Bald\""
   ]
  },
  {
   "cell_type": "code",
   "execution_count": null,
   "id": "c7f2ecd0-72e5-44a4-811b-b20758e640ce",
   "metadata": {},
   "outputs": [],
   "source": [
    "vae = VAE(z_dim=latent_dim, use_cuda=True, prior_dist=prior_dist, q_dist=q_dist, include_mutinfo=True, tcvae=tcvae, conv=conv, mss=mss)"
   ]
  },
  {
   "cell_type": "code",
   "execution_count": null,
   "id": "d5336930-c0fd-41ca-ac2d-d40c86702dd4",
   "metadata": {},
   "outputs": [],
   "source": [
    "optimizer = optim.Adam(vae.parameters(), lr=lr)\n",
    "dataset_size = len(train_loader.dataset)\n",
    "num_iterations = len(train_loader) * num_epochs\n",
    "iteration = 0\n",
    "    # initialize loss accumulator\n",
    "elbo_running_mean = utils.RunningAverageMeter()\n",
    "while iteration < num_iterations:\n",
    "        for i, x in enumerate(train_loader):\n",
    "            iteration += 1\n",
    "            batch_time = time.time()\n",
    "            vae.train()\n",
    "            optimizer.zero_grad()\n",
    "            x = x.cuda()\n",
    "            # wrap the mini-batch in a PyTorch Variable\n",
    "            x = Variable(x)\n",
    "            # do ELBO gradient and accumulate loss\n",
    "            obj, elbo = vae.elbo(x, dataset_size)\n",
    "            if utils.isnan(obj).any():\n",
    "                raise ValueError('NaN spotted in objective.')\n",
    "            obj.mean().mul(-1).backward()\n",
    "            # elbo_running_mean.update(elbo.mean().data[0])\n",
    "            elbo_running_mean.update(elbo.mean().data.item())\n",
    "            optimizer.step()\n",
    "            if iteration % args.log_freq == 0:\n",
    "                train_elbo.append(elbo_running_mean.avg)\n",
    "                print('[iteration %03d] time: %.2f \\tbeta %.2f \\tlambda %.2f training ELBO: %.4f (%.4f)' % (\n",
    "                    iteration, time.time() - batch_time, vae.beta, vae.lamb,\n",
    "                    elbo_running_mean.val, elbo_running_mean.avg))\n",
    "\n",
    "                vae.eval()\n",
    "                utils.save_checkpoint({'state_dict': vae.state_dict()}, save, 0)\n",
    "\n",
    "vae.eval()\n",
    "utils.save_checkpoint({'state_dict': vae.state_dict()}, save, 0)\n",
    "            \n"
   ]
  },
  {
   "cell_type": "code",
   "execution_count": null,
   "id": "0ac606cc-0383-494f-87c8-8257f9ff93ad",
   "metadata": {},
   "outputs": [],
   "source": []
  },
  {
   "cell_type": "code",
   "execution_count": null,
   "id": "c9354400-2556-496d-b6a9-367ed6901c77",
   "metadata": {},
   "outputs": [],
   "source": []
  },
  {
   "cell_type": "code",
   "execution_count": null,
   "id": "31d38c65-194b-4ec1-9e2d-85a38394be94",
   "metadata": {},
   "outputs": [],
   "source": []
  },
  {
   "cell_type": "code",
   "execution_count": 13,
   "id": "e35aaa53-d4de-43b0-9150-e7c1f81bcdb2",
   "metadata": {},
   "outputs": [
    {
     "name": "stdout",
     "output_type": "stream",
     "text": [
      "Defaulting to user installation because normal site-packages is not writeable\n",
      "Requirement already satisfied: pandas in /shared/centos7/classes_conda_envs/CS7150/lib/python3.10/site-packages (1.4.4)\n",
      "Requirement already satisfied: python-dateutil>=2.8.1 in /shared/centos7/classes_conda_envs/CS7150/lib/python3.10/site-packages (from pandas) (2.8.2)\n",
      "Requirement already satisfied: pytz>=2020.1 in /shared/centos7/classes_conda_envs/CS7150/lib/python3.10/site-packages (from pandas) (2022.1)\n",
      "Requirement already satisfied: numpy>=1.21.0 in /shared/centos7/classes_conda_envs/CS7150/lib/python3.10/site-packages (from pandas) (1.24.2)\n",
      "Requirement already satisfied: six>=1.5 in /shared/centos7/classes_conda_envs/CS7150/lib/python3.10/site-packages (from python-dateutil>=2.8.1->pandas) (1.16.0)\n"
     ]
    }
   ],
   "source": []
  }
 ],
 "metadata": {
  "kernelspec": {
   "display_name": "Python 3 (ipykernel)",
   "language": "python",
   "name": "python3"
  },
  "language_info": {
   "codemirror_mode": {
    "name": "ipython",
    "version": 3
   },
   "file_extension": ".py",
   "mimetype": "text/x-python",
   "name": "python",
   "nbconvert_exporter": "python",
   "pygments_lexer": "ipython3",
   "version": "3.10.6"
  }
 },
 "nbformat": 4,
 "nbformat_minor": 5
}
